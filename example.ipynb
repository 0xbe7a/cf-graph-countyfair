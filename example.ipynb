{
 "cells": [
  {
   "cell_type": "code",
   "execution_count": 1,
   "metadata": {},
   "outputs": [],
   "source": [
    "%load_ext autoreload\n",
    "\n",
    "%autoreload 2"
   ]
  },
  {
   "cell_type": "code",
   "execution_count": 2,
   "metadata": {},
   "outputs": [],
   "source": [
    "import logging\n",
    "\n",
    "from conda_forge_tick.utils import setup_logger\n",
    "\n",
    "setup_logger(logging.getLogger(\"conda_forge_tick\"), level=\"DEBUG\")"
   ]
  },
  {
   "cell_type": "code",
   "execution_count": 8,
   "metadata": {},
   "outputs": [
    {
     "name": "stderr",
     "output_type": "stream",
     "text": [
      "2023-03-01 06:28:20,317 INFO     conda_forge_tick.all_feedstocks || reading cached feedstocks\n"
     ]
    }
   ],
   "source": [
    "from conda_forge_tick.make_graph import make_graph\n",
    "from conda_forge_tick.all_feedstocks import get_all_feedstocks\n",
    "from conda_forge_tick.utils import load_graph\n",
    "\n",
    "names = get_all_feedstocks(cached=True)"
   ]
  },
  {
   "cell_type": "code",
   "execution_count": 3,
   "metadata": {},
   "outputs": [
    {
     "name": "stderr",
     "output_type": "stream",
     "text": [
      "2023-03-01 06:22:57,767 INFO     conda_forge_tick.make_graph || reading graph\n",
      "2023-03-01 06:22:57,769 INFO     conda_forge_tick.make_graph || start feedstock fetch loop\n",
      "2023-03-01 06:22:58,204 ERROR    conda_forge_tick.feedstock_parser || Something odd happened when fetching feedstock tensorflow-gpu: 404\n",
      "2023-03-01 06:22:58,211 INFO     conda_forge_tick.make_graph || feedstock fetch loop completed\n",
      "2023-03-01 06:22:58,212 INFO     conda_forge_tick.make_graph || inferring nodes and edges\n",
      "2023-03-01 06:23:31,949 INFO     conda_forge_tick.make_graph || new nodes and edges inferred\n",
      "2023-03-01 06:23:31,950 INFO     conda_forge_tick.make_graph || memory usage: svmem(total=17179869184, available=6359851008, percent=63.0, used=9284153344, free=80265216, active=6266347520, inactive=5975015424, wired=3017805824)\n"
     ]
    }
   ],
   "source": [
    "gx = load_graph(reset_bad=False)\n",
    "\n",
    "gx = make_graph(names, gx, debug=True)"
   ]
  },
  {
   "cell_type": "code",
   "execution_count": 4,
   "metadata": {},
   "outputs": [
    {
     "data": {
      "text/plain": [
       "{'branch': 'main',\n",
       " 'feedstock_name': 'tensorflow-gpu',\n",
       " 'parsing_error': 'make_graph: 404',\n",
       " 'pr_info': <conda_forge_tick.utils.LazyJson at 0x112710d60>,\n",
       " 'version_pr_info': <conda_forge_tick.utils.LazyJson at 0x112710a90>}"
      ]
     },
     "execution_count": 4,
     "metadata": {},
     "output_type": "execute_result"
    }
   ],
   "source": [
    "gx.nodes[\"tensorflow-gpu\"][\"payload\"].data"
   ]
  },
  {
   "cell_type": "code",
   "execution_count": 9,
   "metadata": {
    "scrolled": false
   },
   "outputs": [
    {
     "name": "stdout",
     "output_type": "stream",
     "text": [
      "\n",
      "\n",
      "proj.json\n",
      "{'branch': 'master', 'feedstock_name': 'proj', 'pr_info': <conda_forge_tick.utils.LazyJson object at 0x144b75d60>, 'version_pr_info': <conda_forge_tick.utils.LazyJson object at 0x144b75670>}\n",
      "bad filter: False\n",
      "\n",
      "\n",
      "tensorflow-gpu.json\n",
      "{'branch': 'main', 'feedstock_name': 'tensorflow-gpu', 'parsing_error': 'make_graph: 404', 'pr_info': <conda_forge_tick.utils.LazyJson object at 0x13abb3c70>, 'version_pr_info': <conda_forge_tick.utils.LazyJson object at 0x144b75640>}\n",
      "bad filter: make_graph: 404\n",
      "\n",
      "\n",
      "gfortran_impl_.json\n",
      "{'feedstock_name': 'gfortran_impl_', 'pr_info': <conda_forge_tick.utils.LazyJson object at 0x117181be0>, 'version_pr_info': <conda_forge_tick.utils.LazyJson object at 0x144b75640>}\n",
      "bad filter: False\n",
      "\n",
      "\n",
      "proj4.json\n",
      "{'branch': 'master', 'feedstock_name': 'proj4', 'pr_info': <conda_forge_tick.utils.LazyJson object at 0x117181be0>, 'time': 1543421436.145019, 'version_pr_info': <conda_forge_tick.utils.LazyJson object at 0x144b75700>}\n",
      "bad filter: False\n",
      "\n",
      "\n",
      "numpy-sugar.json\n",
      "{'branch': 'master', 'feedstock_name': 'numpy-sugar', 'pr_info': <conda_forge_tick.utils.LazyJson object at 0x13abb3610>, 'time': 1568135288.8313859, 'version_pr_info': <conda_forge_tick.utils.LazyJson object at 0x144b75670>}\n",
      "bad filter: False\n",
      "\n",
      "\n",
      "custom_inherit.json\n",
      "{'branch': 'master', 'feedstock_name': 'custom_inherit', 'pr_info': <conda_forge_tick.utils.LazyJson object at 0x141b8b790>, 'version_pr_info': <conda_forge_tick.utils.LazyJson object at 0x144b757f0>}\n",
      "bad filter: False\n",
      "\n",
      "\n",
      "click-config-file.json\n",
      "{'branch': 'master', 'feedstock_name': 'click-config-file', 'pr_info': <conda_forge_tick.utils.LazyJson object at 0x13abb3610>, 'version_pr_info': <conda_forge_tick.utils.LazyJson object at 0x144b75700>}\n",
      "bad filter: False\n"
     ]
    },
    {
     "ename": "KeyboardInterrupt",
     "evalue": "",
     "output_type": "error",
     "traceback": [
      "\u001b[0;31m---------------------------------------------------------------------------\u001b[0m",
      "\u001b[0;31mKeyboardInterrupt\u001b[0m                         Traceback (most recent call last)",
      "Cell \u001b[0;32mIn[9], line 25\u001b[0m\n\u001b[1;32m     22\u001b[0m \u001b[38;5;28mprint\u001b[39m(attrs\u001b[38;5;241m.\u001b[39mdata)\n\u001b[1;32m     23\u001b[0m \u001b[38;5;28mprint\u001b[39m(\u001b[38;5;124m\"\u001b[39m\u001b[38;5;124mbad filter:\u001b[39m\u001b[38;5;124m\"\u001b[39m, _parse_bad_attr(attrs, \u001b[38;5;124m\"\u001b[39m\u001b[38;5;124m\"\u001b[39m))\n\u001b[0;32m---> 25\u001b[0m noymls\u001b[38;5;241m.\u001b[39mappend(pth)\n",
      "File \u001b[0;32m~/Desktop/conda-forge/cf-scripts/conda_forge_tick/utils.py:455\u001b[0m, in \u001b[0;36mLazyJson.__exit__\u001b[0;34m(self, *args)\u001b[0m\n\u001b[1;32m    454\u001b[0m \u001b[38;5;28;01mdef\u001b[39;00m \u001b[38;5;21m__exit__\u001b[39m(\u001b[38;5;28mself\u001b[39m, \u001b[38;5;241m*\u001b[39margs: Any) \u001b[38;5;241m-\u001b[39m\u001b[38;5;241m>\u001b[39m Any:\n\u001b[0;32m--> 455\u001b[0m     \u001b[38;5;28;43mself\u001b[39;49m\u001b[38;5;241;43m.\u001b[39;49m\u001b[43m_dump\u001b[49m\u001b[43m(\u001b[49m\u001b[43mpurge\u001b[49m\u001b[38;5;241;43m=\u001b[39;49m\u001b[38;5;28;43;01mTrue\u001b[39;49;00m\u001b[43m)\u001b[49m\n",
      "File \u001b[0;32m~/Desktop/conda-forge/cf-scripts/conda_forge_tick/utils.py:429\u001b[0m, in \u001b[0;36mLazyJson._dump\u001b[0;34m(self, purge)\u001b[0m\n\u001b[1;32m    427\u001b[0m \u001b[38;5;28mself\u001b[39m\u001b[38;5;241m.\u001b[39m_load()\n\u001b[1;32m    428\u001b[0m \u001b[38;5;28;01mwith\u001b[39;00m \u001b[38;5;28mopen\u001b[39m(\u001b[38;5;28mself\u001b[39m\u001b[38;5;241m.\u001b[39mfile_name, \u001b[38;5;124m\"\u001b[39m\u001b[38;5;124mw\u001b[39m\u001b[38;5;124m\"\u001b[39m) \u001b[38;5;28;01mas\u001b[39;00m f:\n\u001b[0;32m--> 429\u001b[0m     \u001b[43mdump\u001b[49m\u001b[43m(\u001b[49m\u001b[38;5;28;43mself\u001b[39;49m\u001b[38;5;241;43m.\u001b[39;49m\u001b[43m_data\u001b[49m\u001b[43m,\u001b[49m\u001b[43m \u001b[49m\u001b[43mf\u001b[49m\u001b[43m)\u001b[49m\n\u001b[1;32m    430\u001b[0m \u001b[38;5;28;01mif\u001b[39;00m purge:\n\u001b[1;32m    431\u001b[0m     \u001b[38;5;66;03m# this evicts the josn from memory and trades i/o for mem\u001b[39;00m\n\u001b[1;32m    432\u001b[0m     \u001b[38;5;66;03m# the bot uses too much mem if we don't do this\u001b[39;00m\n\u001b[1;32m    433\u001b[0m     \u001b[38;5;28mself\u001b[39m\u001b[38;5;241m.\u001b[39m_data \u001b[38;5;241m=\u001b[39m \u001b[38;5;28;01mNone\u001b[39;00m\n",
      "File \u001b[0;32m~/Desktop/conda-forge/cf-scripts/conda_forge_tick/utils.py:570\u001b[0m, in \u001b[0;36mdump\u001b[0;34m(obj, fp, sort_keys, separators, default, **kwargs)\u001b[0m\n\u001b[1;32m    561\u001b[0m \u001b[38;5;28;01mdef\u001b[39;00m \u001b[38;5;21mdump\u001b[39m(\n\u001b[1;32m    562\u001b[0m     obj: Any,\n\u001b[1;32m    563\u001b[0m     fp: IO[\u001b[38;5;28mstr\u001b[39m],\n\u001b[0;32m   (...)\u001b[0m\n\u001b[1;32m    567\u001b[0m     \u001b[38;5;241m*\u001b[39m\u001b[38;5;241m*\u001b[39mkwargs: Any,\n\u001b[1;32m    568\u001b[0m ) \u001b[38;5;241m-\u001b[39m\u001b[38;5;241m>\u001b[39m \u001b[38;5;28;01mNone\u001b[39;00m:\n\u001b[1;32m    569\u001b[0m     \u001b[38;5;124;03m\"\"\"Returns a JSON string from a Python object.\"\"\"\u001b[39;00m\n\u001b[0;32m--> 570\u001b[0m     \u001b[38;5;28;01mreturn\u001b[39;00m \u001b[43mjson\u001b[49m\u001b[38;5;241;43m.\u001b[39;49m\u001b[43mdump\u001b[49m\u001b[43m(\u001b[49m\n\u001b[1;32m    571\u001b[0m \u001b[43m        \u001b[49m\u001b[43mobj\u001b[49m\u001b[43m,\u001b[49m\n\u001b[1;32m    572\u001b[0m \u001b[43m        \u001b[49m\u001b[43mfp\u001b[49m\u001b[43m,\u001b[49m\n\u001b[1;32m    573\u001b[0m \u001b[43m        \u001b[49m\u001b[43msort_keys\u001b[49m\u001b[38;5;241;43m=\u001b[39;49m\u001b[43msort_keys\u001b[49m\u001b[43m,\u001b[49m\n\u001b[1;32m    574\u001b[0m \u001b[43m        \u001b[49m\u001b[38;5;66;43;03m# separators=separators,\u001b[39;49;00m\n\u001b[1;32m    575\u001b[0m \u001b[43m        \u001b[49m\u001b[43mdefault\u001b[49m\u001b[38;5;241;43m=\u001b[39;49m\u001b[43mdefault\u001b[49m\u001b[43m,\u001b[49m\n\u001b[1;32m    576\u001b[0m \u001b[43m        \u001b[49m\u001b[43mindent\u001b[49m\u001b[38;5;241;43m=\u001b[39;49m\u001b[38;5;241;43m1\u001b[39;49m\u001b[43m,\u001b[49m\n\u001b[1;32m    577\u001b[0m \u001b[43m        \u001b[49m\u001b[38;5;241;43m*\u001b[39;49m\u001b[38;5;241;43m*\u001b[39;49m\u001b[43mkwargs\u001b[49m\u001b[43m,\u001b[49m\n\u001b[1;32m    578\u001b[0m \u001b[43m    \u001b[49m\u001b[43m)\u001b[49m\n",
      "File \u001b[0;32m~/Desktop/conda-forge/cf-scripts/conda_forge_tick/utils.py:525\u001b[0m, in \u001b[0;36mdefault\u001b[0;34m(obj)\u001b[0m\n\u001b[1;32m    521\u001b[0m     \u001b[38;5;28;01melse\u001b[39;00m:\n\u001b[1;32m    522\u001b[0m         \u001b[38;5;28;01mraise\u001b[39;00m \u001b[38;5;167;01mNotImplementedError\u001b[39;00m(\u001b[38;5;124m\"\u001b[39m\u001b[38;5;124mThat kind is not implemented\u001b[39m\u001b[38;5;124m\"\u001b[39m)\n\u001b[0;32m--> 525\u001b[0m \u001b[38;5;28;01mdef\u001b[39;00m \u001b[38;5;21mdefault\u001b[39m(obj: Any) \u001b[38;5;241m-\u001b[39m\u001b[38;5;241m>\u001b[39m Any:\n\u001b[1;32m    526\u001b[0m     \u001b[38;5;124;03m\"\"\"For custom object serialization.\"\"\"\u001b[39;00m\n\u001b[1;32m    527\u001b[0m     \u001b[38;5;28;01mif\u001b[39;00m \u001b[38;5;28misinstance\u001b[39m(obj, LazyJson):\n",
      "\u001b[0;31mKeyboardInterrupt\u001b[0m: "
     ]
    }
   ],
   "source": [
    "def _parse_bad_attr(attrs: \"AttrsTypedDict\", not_bad_str_start: str) -> bool:\n",
    "    \"\"\"Overlook some bad entries\"\"\"\n",
    "    bad = attrs.get(\"pr_info\", {}).get(\"bad\", False)\n",
    "    if isinstance(bad, str):\n",
    "        bad_bool = not bad.startswith(not_bad_str_start)\n",
    "    else:\n",
    "        bad_bool = bad\n",
    "\n",
    "    return bad_bool or attrs.get(\"parsing_error\", False)\n",
    "\n",
    "\n",
    "import os\n",
    "from conda_forge_tick.utils import LazyJson\n",
    "\n",
    "noymls = []\n",
    "for pth in os.listdir(\"node_attrs\"):    \n",
    "    lzj = LazyJson(\"node_attrs/\" + pth)\n",
    "    with lzj as attrs:\n",
    "        if (\"conda-forge.yml\" not in attrs) and not attrs.get(\"archived\", False) and pth[:-len(\".json\")] not in names:\n",
    "            print(\"\\n\")\n",
    "            print(pth)\n",
    "            print(attrs.data)\n",
    "            print(\"bad filter:\", _parse_bad_attr(attrs, \"\"))\n",
    "            \n",
    "            noymls.append(pth)"
   ]
  },
  {
   "cell_type": "code",
   "execution_count": null,
   "metadata": {},
   "outputs": [],
   "source": [
    "\"blah\".startswith(\"\")"
   ]
  },
  {
   "cell_type": "code",
   "execution_count": null,
   "metadata": {},
   "outputs": [],
   "source": [
    "lzj = LazyJson(\"node_attrs/proj.json\")"
   ]
  },
  {
   "cell_type": "code",
   "execution_count": null,
   "metadata": {},
   "outputs": [],
   "source": [
    "lzj.data"
   ]
  },
  {
   "cell_type": "markdown",
   "metadata": {},
   "source": [
    "## Check Some Version Stuff"
   ]
  },
  {
   "cell_type": "code",
   "execution_count": null,
   "metadata": {},
   "outputs": [],
   "source": [
    "from conda_forge_tick.update_upstream_versions import update_upstream_versions"
   ]
  },
  {
   "cell_type": "code",
   "execution_count": null,
   "metadata": {},
   "outputs": [],
   "source": [
    "import copy\n",
    "\n",
    "gxc = copy.deepcopy(gx)\n",
    "\n",
    "for node in list(gxc.nodes):\n",
    "    if node not in [\"tzdata\", \"openssl\", \"jpeg\", \"cddlib\"]:\n",
    "        gxc.remove_node(node)"
   ]
  },
  {
   "cell_type": "code",
   "execution_count": null,
   "metadata": {
    "scrolled": false
   },
   "outputs": [],
   "source": [
    "update_upstream_versions(gxc, debug=True)"
   ]
  },
  {
   "cell_type": "code",
   "execution_count": null,
   "metadata": {},
   "outputs": [],
   "source": []
  },
  {
   "cell_type": "code",
   "execution_count": null,
   "metadata": {},
   "outputs": [],
   "source": []
  },
  {
   "cell_type": "code",
   "execution_count": null,
   "metadata": {},
   "outputs": [],
   "source": []
  },
  {
   "cell_type": "code",
   "execution_count": null,
   "metadata": {},
   "outputs": [],
   "source": []
  },
  {
   "cell_type": "markdown",
   "metadata": {},
   "source": [
    "## Look at a Migration"
   ]
  },
  {
   "cell_type": "code",
   "execution_count": null,
   "metadata": {},
   "outputs": [],
   "source": [
    "from conda_forge_tick.auto_tick import migration_factory, add_rebuild_broken_migrator"
   ]
  },
  {
   "cell_type": "code",
   "execution_count": null,
   "metadata": {},
   "outputs": [],
   "source": [
    "mgs = []\n",
    "add_rebuild_broken_migrator(mgs, gx)"
   ]
  },
  {
   "cell_type": "code",
   "execution_count": null,
   "metadata": {},
   "outputs": [],
   "source": [
    "mg = mgs[0]"
   ]
  },
  {
   "cell_type": "code",
   "execution_count": null,
   "metadata": {},
   "outputs": [],
   "source": [
    "import os\n",
    "from conda_forge_tick.contexts import MigratorContext, MigratorSessionContext\n",
    "\n",
    "\n",
    "mctx = MigratorSessionContext(\n",
    "    circle_build_url=os.getenv(\"CIRCLE_BUILD_URL\", \"\"),\n",
    "    graph=gx,\n",
    "    smithy_version=\"\",\n",
    "    pinning_version=\"\",\n",
    "    github_username=\"\",\n",
    "    github_password=\"\",\n",
    "    github_token=\"\",\n",
    "    dry_run=False,\n",
    ")\n",
    "\n",
    "mmctx = MigratorContext(session=mctx, migrator=mg)\n",
    "mg.bind_to_ctx(mmctx)"
   ]
  },
  {
   "cell_type": "code",
   "execution_count": null,
   "metadata": {
    "scrolled": false
   },
   "outputs": [],
   "source": [
    "mmctx.effective_graph.nodes"
   ]
  },
  {
   "cell_type": "code",
   "execution_count": null,
   "metadata": {},
   "outputs": [],
   "source": []
  },
  {
   "cell_type": "code",
   "execution_count": null,
   "metadata": {},
   "outputs": [],
   "source": []
  },
  {
   "cell_type": "code",
   "execution_count": null,
   "metadata": {
    "scrolled": true
   },
   "outputs": [],
   "source": [
    "mg_name = \"libffi33\"\n",
    "\n",
    "mgs = []\n",
    "migration_factory(mgs, gx, only_keep=[mg_name])\n",
    "\n",
    "for i in range(len(mgs)):\n",
    "    if mgs[i].name == mg_name:\n",
    "        break\n",
    "mg = mgs[i]"
   ]
  },
  {
   "cell_type": "code",
   "execution_count": null,
   "metadata": {},
   "outputs": [],
   "source": [
    "import copy\n",
    "\n",
    "attrs = copy.deepcopy(mg.graph.nodes[\"python\"][\"payload\"].data)\n",
    "\n",
    "attrs[\"branch\"] = \"3.6\"\n",
    "mg.filter(attrs)"
   ]
  },
  {
   "cell_type": "code",
   "execution_count": null,
   "metadata": {},
   "outputs": [],
   "source": [
    "import os\n",
    "from conda_forge_tick.contexts import MigratorContext, MigratorSessionContext\n",
    "\n",
    "\n",
    "mctx = MigratorSessionContext(\n",
    "    circle_build_url=os.getenv(\"CIRCLE_BUILD_URL\", \"\"),\n",
    "    graph=gx,\n",
    "    smithy_version=\"\",\n",
    "    pinning_version=\"\",\n",
    "    github_username=\"\",\n",
    "    github_password=\"\",\n",
    "    github_token=\"\",\n",
    "    dry_run=False,\n",
    ")\n",
    "\n",
    "mmctx = MigratorContext(session=mctx, migrator=mg)\n",
    "mg.bind_to_ctx(mmctx)\n"
   ]
  },
  {
   "cell_type": "code",
   "execution_count": null,
   "metadata": {},
   "outputs": [],
   "source": [
    "mmctx.effective_graph.nodes"
   ]
  },
  {
   "cell_type": "code",
   "execution_count": null,
   "metadata": {},
   "outputs": [],
   "source": []
  },
  {
   "cell_type": "code",
   "execution_count": null,
   "metadata": {},
   "outputs": [],
   "source": []
  },
  {
   "cell_type": "code",
   "execution_count": null,
   "metadata": {},
   "outputs": [],
   "source": []
  },
  {
   "cell_type": "markdown",
   "metadata": {},
   "source": [
    "## Check the Status Report"
   ]
  },
  {
   "cell_type": "code",
   "execution_count": null,
   "metadata": {},
   "outputs": [],
   "source": [
    "from conda_forge_tick.status_report import  graph_migrator_status"
   ]
  },
  {
   "cell_type": "code",
   "execution_count": null,
   "metadata": {},
   "outputs": [],
   "source": [
    "out2, build_sequence, gv = graph_migrator_status(mg, mg.graph)"
   ]
  },
  {
   "cell_type": "code",
   "execution_count": null,
   "metadata": {},
   "outputs": [],
   "source": [
    "gv.view()"
   ]
  },
  {
   "cell_type": "code",
   "execution_count": null,
   "metadata": {
    "scrolled": false
   },
   "outputs": [],
   "source": [
    "build_sequence"
   ]
  },
  {
   "cell_type": "code",
   "execution_count": null,
   "metadata": {},
   "outputs": [],
   "source": [
    "len(build_sequence)"
   ]
  },
  {
   "cell_type": "code",
   "execution_count": null,
   "metadata": {},
   "outputs": [],
   "source": [
    "gx.nodes[\"proj\"][\"payload\"].data"
   ]
  },
  {
   "cell_type": "code",
   "execution_count": null,
   "metadata": {},
   "outputs": [],
   "source": []
  }
 ],
 "metadata": {
  "kernelspec": {
   "display_name": "Python [conda env:bot-dev]",
   "language": "python",
   "name": "conda-env-bot-dev-py"
  },
  "language_info": {
   "codemirror_mode": {
    "name": "ipython",
    "version": 3
   },
   "file_extension": ".py",
   "mimetype": "text/x-python",
   "name": "python",
   "nbconvert_exporter": "python",
   "pygments_lexer": "ipython3",
   "version": "3.9.16"
  }
 },
 "nbformat": 4,
 "nbformat_minor": 4
}
